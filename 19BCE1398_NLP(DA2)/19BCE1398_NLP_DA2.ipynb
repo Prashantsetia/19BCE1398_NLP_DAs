{
  "nbformat": 4,
  "nbformat_minor": 0,
  "metadata": {
    "colab": {
      "name": "19BCE1398_NLP_DA2.ipynb",
      "provenance": [],
      "collapsed_sections": []
    },
    "kernelspec": {
      "name": "python3",
      "display_name": "Python 3"
    },
    "language_info": {
      "name": "python"
    }
  },
  "cells": [
    {
      "cell_type": "markdown",
      "source": [
        "# **NLP DA2 (19BCE1398)**\n",
        "\n",
        "> \n",
        "    Name: Prashant Setia\n",
        "---\n",
        "\n"
      ],
      "metadata": {
        "id": "jD9nVospzKIw"
      }
    },
    {
      "cell_type": "markdown",
      "source": [
        "#Uploading the created corpus file"
      ],
      "metadata": {
        "id": "3I9CBrNh258L"
      }
    },
    {
      "cell_type": "code",
      "source": [
        "from nltk.corpus.reader import WordListCorpusReader\n",
        "from google.colab import files\n",
        "uploaded = files.upload()\n",
        "x = WordListCorpusReader(\".\", uploaded)\n",
        "x.words()\n",
        "  \n"
      ],
      "metadata": {
        "colab": {
          "resources": {
            "http://localhost:8080/nbextensions/google.colab/files.js": {
              "data": "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",
              "ok": true,
              "headers": [
                [
                  "content-type",
                  "application/javascript"
                ]
              ],
              "status": 200,
              "status_text": ""
            }
          },
          "base_uri": "https://localhost:8080/",
          "height": 230
        },
        "id": "zdydFqORQplk",
        "outputId": "ddacddfc-e9d9-4b80-914d-c4ae60593a76"
      },
      "execution_count": 40,
      "outputs": [
        {
          "output_type": "display_data",
          "data": {
            "text/plain": [
              "<IPython.core.display.HTML object>"
            ],
            "text/html": [
              "\n",
              "     <input type=\"file\" id=\"files-896678fd-4ca3-4095-b8f2-0cc462b3c3eb\" name=\"files[]\" multiple disabled\n",
              "        style=\"border:none\" />\n",
              "     <output id=\"result-896678fd-4ca3-4095-b8f2-0cc462b3c3eb\">\n",
              "      Upload widget is only available when the cell has been executed in the\n",
              "      current browser session. Please rerun this cell to enable.\n",
              "      </output>\n",
              "      <script src=\"/nbextensions/google.colab/files.js\"></script> "
            ]
          },
          "metadata": {}
        },
        {
          "output_type": "stream",
          "name": "stdout",
          "text": [
            "Saving MycustomCorpus.txt to MycustomCorpus (1).txt\n"
          ]
        },
        {
          "output_type": "execute_result",
          "data": {
            "text/plain": [
              "['It started with a Tweet claiming that most players likes in the cybersecurity industry were providing customer service equivalent to that of taxi drivers. When David Merkel spotted it, he couldn’t stop thinking about it, and the idea for a business quickly took shape.',\n",
              " 'Merkel,  with his likes partners Yanek Korff and  , set liking about creating , which  managed  and  (MDR) solutions  provide businesses with 24/7 protection for their cloud applications, infrastructure networks and endpoints. Launched in 2016, the company has raised more than $250 million through five rounds and achieved a valuation of more than $1 billion.',\n",
              " '“The likely of us were working for liked, and we all left in 2015, about 18 months after like it acquired Mandiant liking and likedfor just over $1 billion,” says Merkel. “We had no idea what we would do next, but one thing was certain: we all felt that our startup days were behind us. We took some much-needed time off and vowed never to do another cyber startup again.”The trio broke their vow almost immediately when they spotted a tweet from their friend and industry colleague Rick Holland. Working for Forrester Research at the time, Holland noted that the customers.']"
            ]
          },
          "metadata": {},
          "execution_count": 40
        }
      ]
    },
    {
      "cell_type": "markdown",
      "source": [
        "# Word Segmentation #using **punkt tokenizer**\n",
        "######This tokenizer divides a text into a list of sentences by using an unsupervised algorithm to build a model for abbreviation words, collocations, and words that start sentences."
      ],
      "metadata": {
        "id": "dd5v26k0JlSC"
      }
    },
    {
      "cell_type": "code",
      "source": [
        "import nltk\n",
        "# downloading punkt text tokenizer\n",
        "# nltk.download('punkt')\n",
        "from nltk.tokenize import word_tokenize\n",
        "\n",
        "print(word_tokenize(x.raw()))"
      ],
      "metadata": {
        "colab": {
          "base_uri": "https://localhost:8080/"
        },
        "id": "FUPdkSRGJqzg",
        "outputId": "e18d7d53-ea7b-4b6a-dc0a-41cd971206d6"
      },
      "execution_count": 45,
      "outputs": [
        {
          "output_type": "stream",
          "name": "stdout",
          "text": [
            "['It', 'started', 'with', 'a', 'Tweet', 'claiming', 'that', 'most', 'players', 'likes', 'in', 'the', 'cybersecurity', 'industry', 'were', 'providing', 'customer', 'service', 'equivalent', 'to', 'that', 'of', 'taxi', 'drivers', '.', 'When', 'David', 'Merkel', 'spotted', 'it', ',', 'he', 'couldn', '’', 't', 'stop', 'thinking', 'about', 'it', ',', 'and', 'the', 'idea', 'for', 'a', 'business', 'quickly', 'took', 'shape', '.', 'Merkel', ',', 'with', 'his', 'likes', 'partners', 'Yanek', 'Korff', 'and', ',', 'set', 'liking', 'about', 'creating', ',', 'which', 'managed', 'and', '(', 'MDR', ')', 'solutions', 'provide', 'businesses', 'with', '24/7', 'protection', 'for', 'their', 'cloud', 'applications', ',', 'infrastructure', 'networks', 'and', 'endpoints', '.', 'Launched', 'in', '2016', ',', 'the', 'company', 'has', 'raised', 'more', 'than', '$', '250', 'million', 'through', 'five', 'rounds', 'and', 'achieved', 'a', 'valuation', 'of', 'more', 'than', '$', '1', 'billion', '.', '“', 'The', 'likely', 'of', 'us', 'were', 'working', 'for', 'liked', ',', 'and', 'we', 'all', 'left', 'in', '2015', ',', 'about', '18', 'months', 'after', 'like', 'it', 'acquired', 'Mandiant', 'liking', 'and', 'likedfor', 'just', 'over', '$', '1', 'billion', ',', '”', 'says', 'Merkel', '.', '“', 'We', 'had', 'no', 'idea', 'what', 'we', 'would', 'do', 'next', ',', 'but', 'one', 'thing', 'was', 'certain', ':', 'we', 'all', 'felt', 'that', 'our', 'startup', 'days', 'were', 'behind', 'us', '.', 'We', 'took', 'some', 'much-needed', 'time', 'off', 'and', 'vowed', 'never', 'to', 'do', 'another', 'cyber', 'startup', 'again.', '”', 'The', 'trio', 'broke', 'their', 'vow', 'almost', 'immediately', 'when', 'they', 'spotted', 'a', 'tweet', 'from', 'their', 'friend', 'and', 'industry', 'colleague', 'Rick', 'Holland', '.', 'Working', 'for', 'Forrester', 'Research', 'at', 'the', 'time', ',', 'Holland', 'noted', 'that', 'the', 'customers', '.']\n"
          ]
        }
      ]
    },
    {
      "cell_type": "markdown",
      "source": [
        "#Sentence Segmentation"
      ],
      "metadata": {
        "id": "7Od0vJpovr4J"
      }
    },
    {
      "cell_type": "code",
      "source": [
        "# Sentence Segmentation\n",
        "sentences = nltk.sent_tokenize(x.raw())  #whole paragraph break into sentence.\n",
        "for sentence in sentences:\n",
        "\tprint(sentence)\n",
        "\tprint()"
      ],
      "metadata": {
        "colab": {
          "base_uri": "https://localhost:8080/"
        },
        "id": "e_ObOQrdvPaq",
        "outputId": "fff40918-5f8b-46a7-e3a3-c53960fdc71f"
      },
      "execution_count": 36,
      "outputs": [
        {
          "output_type": "stream",
          "name": "stdout",
          "text": [
            "It started with a Tweet claiming that most players likes in the cybersecurity industry were providing customer service equivalent to that of taxi drivers.\n",
            "\n",
            "When David Merkel spotted it, he couldn’t stop thinking about it, and the idea for a business quickly took shape.\n",
            "\n",
            "Merkel,  with his likes partners Yanek Korff and  , set liking about creating , which  managed  and  (MDR) solutions  provide businesses with 24/7 protection for their cloud applications, infrastructure networks and endpoints.\n",
            "\n",
            "Launched in 2016, the company has raised more than $250 million through five rounds and achieved a valuation of more than $1 billion.\n",
            "\n",
            "“The likely of us were working for liked, and we all left in 2015, about 18 months after like it acquired Mandiant liking and likedfor just over $1 billion,” says Merkel.\n",
            "\n",
            "“We had no idea what we would do next, but one thing was certain: we all felt that our startup days were behind us.\n",
            "\n",
            "We took some much-needed time off and vowed never to do another cyber startup again.”The trio broke their vow almost immediately when they spotted a tweet from their friend and industry colleague Rick Holland.\n",
            "\n",
            "Working for Forrester Research at the time, Holland noted that the customers.\n",
            "\n"
          ]
        }
      ]
    },
    {
      "cell_type": "markdown",
      "source": [
        "#Convert To **LowerCase**\n",
        "\n",
        "*   Whole Text will be converted to lower case"
      ],
      "metadata": {
        "id": "rUVxQduBw0Vo"
      }
    },
    {
      "cell_type": "code",
      "source": [
        "# converting the text to lower case\n",
        "print(x.raw().lower())"
      ],
      "metadata": {
        "colab": {
          "base_uri": "https://localhost:8080/"
        },
        "id": "YLUFL6dHw5JJ",
        "outputId": "9325816f-34f2-4acc-a504-89dc0b3a81b1"
      },
      "execution_count": 39,
      "outputs": [
        {
          "output_type": "stream",
          "name": "stdout",
          "text": [
            "it started with a tweet claiming that most players likes in the cybersecurity industry were providing customer service equivalent to that of taxi drivers. when david merkel spotted it, he couldn’t stop thinking about it, and the idea for a business quickly took shape.\r\n",
            "\r\n",
            "merkel,  with his likes partners yanek korff and  , set liking about creating , which  managed  and  (mdr) solutions  provide businesses with 24/7 protection for their cloud applications, infrastructure networks and endpoints. launched in 2016, the company has raised more than $250 million through five rounds and achieved a valuation of more than $1 billion.\r\n",
            "\r\n",
            "“the likely of us were working for liked, and we all left in 2015, about 18 months after like it acquired mandiant liking and likedfor just over $1 billion,” says merkel. “we had no idea what we would do next, but one thing was certain: we all felt that our startup days were behind us. we took some much-needed time off and vowed never to do another cyber startup again.”the trio broke their vow almost immediately when they spotted a tweet from their friend and industry colleague rick holland. working for forrester research at the time, holland noted that the customers.\n"
          ]
        }
      ]
    },
    {
      "cell_type": "markdown",
      "source": [
        "# Stop Words Removal\n",
        "The idea is simply removing the words that occur commonly across all the documents in the corpus. Typically, articles and pronouns are generally classified as stop words."
      ],
      "metadata": {
        "id": "2Ca5Wo_FMv8i"
      }
    },
    {
      "cell_type": "code",
      "source": [
        "from nltk.corpus import stopwords\n",
        "from nltk.tokenize import word_tokenize\n",
        "\n",
        "example_sent=x.raw();\n",
        "\n",
        "stop_words = set(stopwords.words('english'))\n",
        "\n",
        "word_tokens = word_tokenize(example_sent)\n",
        "\n",
        "filtered_sentence = [w for w in word_tokens if not w.lower() in stop_words]\n",
        "\n",
        "filtered_sentence = []\n",
        "\n",
        "for w in word_tokens:\n",
        "\tif w not in stop_words:\n",
        "\t\tfiltered_sentence.append(w)\n",
        "\n",
        "print(word_tokens)\n",
        "print(filtered_sentence)\n"
      ],
      "metadata": {
        "colab": {
          "base_uri": "https://localhost:8080/"
        },
        "id": "NQiwswf0MyrG",
        "outputId": "587e9b56-b5c9-43fa-d3c8-b33305f94e58"
      },
      "execution_count": 35,
      "outputs": [
        {
          "output_type": "stream",
          "name": "stdout",
          "text": [
            "['It', 'started', 'with', 'a', 'Tweet', 'claiming', 'that', 'most', 'players', 'likes', 'in', 'the', 'cybersecurity', 'industry', 'were', 'providing', 'customer', 'service', 'equivalent', 'to', 'that', 'of', 'taxi', 'drivers', '.', 'When', 'David', 'Merkel', 'spotted', 'it', ',', 'he', 'couldn', '’', 't', 'stop', 'thinking', 'about', 'it', ',', 'and', 'the', 'idea', 'for', 'a', 'business', 'quickly', 'took', 'shape', '.', 'Merkel', ',', 'with', 'his', 'likes', 'partners', 'Yanek', 'Korff', 'and', ',', 'set', 'liking', 'about', 'creating', ',', 'which', 'managed', 'and', '(', 'MDR', ')', 'solutions', 'provide', 'businesses', 'with', '24/7', 'protection', 'for', 'their', 'cloud', 'applications', ',', 'infrastructure', 'networks', 'and', 'endpoints', '.', 'Launched', 'in', '2016', ',', 'the', 'company', 'has', 'raised', 'more', 'than', '$', '250', 'million', 'through', 'five', 'rounds', 'and', 'achieved', 'a', 'valuation', 'of', 'more', 'than', '$', '1', 'billion', '.', '“', 'The', 'likely', 'of', 'us', 'were', 'working', 'for', 'liked', ',', 'and', 'we', 'all', 'left', 'in', '2015', ',', 'about', '18', 'months', 'after', 'like', 'it', 'acquired', 'Mandiant', 'liking', 'and', 'likedfor', 'just', 'over', '$', '1', 'billion', ',', '”', 'says', 'Merkel', '.', '“', 'We', 'had', 'no', 'idea', 'what', 'we', 'would', 'do', 'next', ',', 'but', 'one', 'thing', 'was', 'certain', ':', 'we', 'all', 'felt', 'that', 'our', 'startup', 'days', 'were', 'behind', 'us', '.', 'We', 'took', 'some', 'much-needed', 'time', 'off', 'and', 'vowed', 'never', 'to', 'do', 'another', 'cyber', 'startup', 'again.', '”', 'The', 'trio', 'broke', 'their', 'vow', 'almost', 'immediately', 'when', 'they', 'spotted', 'a', 'tweet', 'from', 'their', 'friend', 'and', 'industry', 'colleague', 'Rick', 'Holland', '.', 'Working', 'for', 'Forrester', 'Research', 'at', 'the', 'time', ',', 'Holland', 'noted', 'that', 'the', 'customers', '.']\n",
            "['It', 'started', 'Tweet', 'claiming', 'players', 'likes', 'cybersecurity', 'industry', 'providing', 'customer', 'service', 'equivalent', 'taxi', 'drivers', '.', 'When', 'David', 'Merkel', 'spotted', ',', '’', 'stop', 'thinking', ',', 'idea', 'business', 'quickly', 'took', 'shape', '.', 'Merkel', ',', 'likes', 'partners', 'Yanek', 'Korff', ',', 'set', 'liking', 'creating', ',', 'managed', '(', 'MDR', ')', 'solutions', 'provide', 'businesses', '24/7', 'protection', 'cloud', 'applications', ',', 'infrastructure', 'networks', 'endpoints', '.', 'Launched', '2016', ',', 'company', 'raised', '$', '250', 'million', 'five', 'rounds', 'achieved', 'valuation', '$', '1', 'billion', '.', '“', 'The', 'likely', 'us', 'working', 'liked', ',', 'left', '2015', ',', '18', 'months', 'like', 'acquired', 'Mandiant', 'liking', 'likedfor', '$', '1', 'billion', ',', '”', 'says', 'Merkel', '.', '“', 'We', 'idea', 'would', 'next', ',', 'one', 'thing', 'certain', ':', 'felt', 'startup', 'days', 'behind', 'us', '.', 'We', 'took', 'much-needed', 'time', 'vowed', 'never', 'another', 'cyber', 'startup', 'again.', '”', 'The', 'trio', 'broke', 'vow', 'almost', 'immediately', 'spotted', 'tweet', 'friend', 'industry', 'colleague', 'Rick', 'Holland', '.', 'Working', 'Forrester', 'Research', 'time', ',', 'Holland', 'noted', 'customers', '.']\n"
          ]
        }
      ]
    },
    {
      "cell_type": "markdown",
      "source": [
        "# Stemming\n",
        "Stemming is the **process of reducing a word to its word stem that affixes to suffixes and prefixes or to the roots of words known as a lemma**\n"
      ],
      "metadata": {
        "id": "7fXDavQkKR8g"
      }
    },
    {
      "cell_type": "code",
      "source": [
        "# import these modules\n",
        "from nltk.stem import PorterStemmer\n",
        "from nltk.tokenize import word_tokenize\n",
        "\n",
        "ps = PorterStemmer()\n",
        "\n",
        "# choose some words to be stemmed\n",
        "words = [\"like\", \"likes\", \"likely\", \"liked\", \"liking\"]\n",
        "k=word_tokenize(x.raw())\n",
        "for w in k:\n",
        "\t# print(w, \" : \", ps.stem(w))\n",
        "\tprint(\"Stem for {} is {}\".format(w,ps.stem(w)))  \n"
      ],
      "metadata": {
        "colab": {
          "base_uri": "https://localhost:8080/"
        },
        "id": "28NrHkmeKWHY",
        "outputId": "a8cbc2c6-cc48-4bab-90d4-9498c8b04997"
      },
      "execution_count": 27,
      "outputs": [
        {
          "output_type": "stream",
          "name": "stdout",
          "text": [
            "Stem for It is it\n",
            "Stem for started is start\n",
            "Stem for with is with\n",
            "Stem for a is a\n",
            "Stem for Tweet is tweet\n",
            "Stem for claiming is claim\n",
            "Stem for that is that\n",
            "Stem for most is most\n",
            "Stem for players is player\n",
            "Stem for likes is like\n",
            "Stem for in is in\n",
            "Stem for the is the\n",
            "Stem for cybersecurity is cybersecur\n",
            "Stem for industry is industri\n",
            "Stem for were is were\n",
            "Stem for providing is provid\n",
            "Stem for customer is custom\n",
            "Stem for service is servic\n",
            "Stem for equivalent is equival\n",
            "Stem for to is to\n",
            "Stem for that is that\n",
            "Stem for of is of\n",
            "Stem for taxi is taxi\n",
            "Stem for drivers is driver\n",
            "Stem for . is .\n",
            "Stem for When is when\n",
            "Stem for David is david\n",
            "Stem for Merkel is merkel\n",
            "Stem for spotted is spot\n",
            "Stem for it is it\n",
            "Stem for , is ,\n",
            "Stem for he is he\n",
            "Stem for couldn is couldn\n",
            "Stem for ’ is ’\n",
            "Stem for t is t\n",
            "Stem for stop is stop\n",
            "Stem for thinking is think\n",
            "Stem for about is about\n",
            "Stem for it is it\n",
            "Stem for , is ,\n",
            "Stem for and is and\n",
            "Stem for the is the\n",
            "Stem for idea is idea\n",
            "Stem for for is for\n",
            "Stem for a is a\n",
            "Stem for business is busi\n",
            "Stem for quickly is quickli\n",
            "Stem for took is took\n",
            "Stem for shape is shape\n",
            "Stem for . is .\n",
            "Stem for Merkel is merkel\n",
            "Stem for , is ,\n",
            "Stem for with is with\n",
            "Stem for his is hi\n",
            "Stem for likes is like\n",
            "Stem for partners is partner\n",
            "Stem for Yanek is yanek\n",
            "Stem for Korff is korff\n",
            "Stem for and is and\n",
            "Stem for , is ,\n",
            "Stem for set is set\n",
            "Stem for liking is like\n",
            "Stem for about is about\n",
            "Stem for creating is creat\n",
            "Stem for , is ,\n",
            "Stem for which is which\n",
            "Stem for managed is manag\n",
            "Stem for and is and\n",
            "Stem for ( is (\n",
            "Stem for MDR is mdr\n",
            "Stem for ) is )\n",
            "Stem for solutions is solut\n",
            "Stem for provide is provid\n",
            "Stem for businesses is busi\n",
            "Stem for with is with\n",
            "Stem for 24/7 is 24/7\n",
            "Stem for protection is protect\n",
            "Stem for for is for\n",
            "Stem for their is their\n",
            "Stem for cloud is cloud\n",
            "Stem for applications is applic\n",
            "Stem for , is ,\n",
            "Stem for infrastructure is infrastructur\n",
            "Stem for networks is network\n",
            "Stem for and is and\n",
            "Stem for endpoints is endpoint\n",
            "Stem for . is .\n",
            "Stem for Launched is launch\n",
            "Stem for in is in\n",
            "Stem for 2016 is 2016\n",
            "Stem for , is ,\n",
            "Stem for the is the\n",
            "Stem for company is compani\n",
            "Stem for has is ha\n",
            "Stem for raised is rais\n",
            "Stem for more is more\n",
            "Stem for than is than\n",
            "Stem for $ is $\n",
            "Stem for 250 is 250\n",
            "Stem for million is million\n",
            "Stem for through is through\n",
            "Stem for five is five\n",
            "Stem for rounds is round\n",
            "Stem for and is and\n",
            "Stem for achieved is achiev\n",
            "Stem for a is a\n",
            "Stem for valuation is valuat\n",
            "Stem for of is of\n",
            "Stem for more is more\n",
            "Stem for than is than\n",
            "Stem for $ is $\n",
            "Stem for 1 is 1\n",
            "Stem for billion is billion\n",
            "Stem for . is .\n",
            "Stem for “ is “\n",
            "Stem for The is the\n",
            "Stem for likely is like\n",
            "Stem for of is of\n",
            "Stem for us is us\n",
            "Stem for were is were\n",
            "Stem for working is work\n",
            "Stem for for is for\n",
            "Stem for liked is like\n",
            "Stem for , is ,\n",
            "Stem for and is and\n",
            "Stem for we is we\n",
            "Stem for all is all\n",
            "Stem for left is left\n",
            "Stem for in is in\n",
            "Stem for 2015 is 2015\n",
            "Stem for , is ,\n",
            "Stem for about is about\n",
            "Stem for 18 is 18\n",
            "Stem for months is month\n",
            "Stem for after is after\n",
            "Stem for like is like\n",
            "Stem for it is it\n",
            "Stem for acquired is acquir\n",
            "Stem for Mandiant is mandiant\n",
            "Stem for liking is like\n",
            "Stem for and is and\n",
            "Stem for likedfor is likedfor\n",
            "Stem for just is just\n",
            "Stem for over is over\n",
            "Stem for $ is $\n",
            "Stem for 1 is 1\n",
            "Stem for billion is billion\n",
            "Stem for , is ,\n",
            "Stem for ” is ”\n",
            "Stem for says is say\n",
            "Stem for Merkel is merkel\n",
            "Stem for . is .\n",
            "Stem for “ is “\n",
            "Stem for We is we\n",
            "Stem for had is had\n",
            "Stem for no is no\n",
            "Stem for idea is idea\n",
            "Stem for what is what\n",
            "Stem for we is we\n",
            "Stem for would is would\n",
            "Stem for do is do\n",
            "Stem for next is next\n",
            "Stem for , is ,\n",
            "Stem for but is but\n",
            "Stem for one is one\n",
            "Stem for thing is thing\n",
            "Stem for was is wa\n",
            "Stem for certain is certain\n",
            "Stem for : is :\n",
            "Stem for we is we\n",
            "Stem for all is all\n",
            "Stem for felt is felt\n",
            "Stem for that is that\n",
            "Stem for our is our\n",
            "Stem for startup is startup\n",
            "Stem for days is day\n",
            "Stem for were is were\n",
            "Stem for behind is behind\n",
            "Stem for us is us\n",
            "Stem for . is .\n",
            "Stem for We is we\n",
            "Stem for took is took\n",
            "Stem for some is some\n",
            "Stem for much-needed is much-need\n",
            "Stem for time is time\n",
            "Stem for off is off\n",
            "Stem for and is and\n",
            "Stem for vowed is vow\n",
            "Stem for never is never\n",
            "Stem for to is to\n",
            "Stem for do is do\n",
            "Stem for another is anoth\n",
            "Stem for cyber is cyber\n",
            "Stem for startup is startup\n",
            "Stem for again. is again.\n",
            "Stem for ” is ”\n",
            "Stem for The is the\n",
            "Stem for trio is trio\n",
            "Stem for broke is broke\n",
            "Stem for their is their\n",
            "Stem for vow is vow\n",
            "Stem for almost is almost\n",
            "Stem for immediately is immedi\n",
            "Stem for when is when\n",
            "Stem for they is they\n",
            "Stem for spotted is spot\n",
            "Stem for a is a\n",
            "Stem for tweet is tweet\n",
            "Stem for from is from\n",
            "Stem for their is their\n",
            "Stem for friend is friend\n",
            "Stem for and is and\n",
            "Stem for industry is industri\n",
            "Stem for colleague is colleagu\n",
            "Stem for Rick is rick\n",
            "Stem for Holland is holland\n",
            "Stem for . is .\n",
            "Stem for Working is work\n",
            "Stem for for is for\n",
            "Stem for Forrester is forrest\n",
            "Stem for Research is research\n",
            "Stem for at is at\n",
            "Stem for the is the\n",
            "Stem for time is time\n",
            "Stem for , is ,\n",
            "Stem for Holland is holland\n",
            "Stem for noted is note\n",
            "Stem for that is that\n",
            "Stem for the is the\n",
            "Stem for customers is custom\n",
            "Stem for . is .\n"
          ]
        }
      ]
    },
    {
      "cell_type": "markdown",
      "source": [
        "# **Observable Output of Stemming**\n",
        "![ss.png](data:image/png;base64,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)"
      ],
      "metadata": {
        "id": "KdnOirGg16yX"
      }
    },
    {
      "cell_type": "markdown",
      "source": [
        "# Lemmatization: \n",
        "**Meaning :** lemmatization is a text normalization technique used in Natural Language Processing (NLP)\n",
        "##**Some Examples:**"
      ],
      "metadata": {
        "id": "1XXoikmpx2xH"
      }
    },
    {
      "cell_type": "code",
      "source": [
        "# import these modules\n",
        "# nltk.download('wordnet')\n",
        "# nltk.download('omw-1.4')\n",
        "\n",
        "from nltk.stem import WordNetLemmatizer\n",
        "lemmatizer = WordNetLemmatizer()\n",
        "\n",
        "print(\"The lemmatization of likes is: \", lemmatizer.lemmatize(\"likes\"))\n",
        "print(\"The lemmatization of studies is: \", lemmatizer.lemmatize(\"studies\"))\n",
        "\n",
        "# a denotes adjective in \"pos\"\n",
        "print(\"better :\", lemmatizer.lemmatize(\"better\", pos =\"a\"))\n"
      ],
      "metadata": {
        "colab": {
          "base_uri": "https://localhost:8080/"
        },
        "id": "FNJOG0VyK3gh",
        "outputId": "61d50de1-9322-4517-b7a3-2e4f9e0f52fc"
      },
      "execution_count": 44,
      "outputs": [
        {
          "output_type": "stream",
          "name": "stdout",
          "text": [
            "The lemmatization of likes is:  like\n",
            "The lemmatization of studies is:  study\n",
            "better : good\n"
          ]
        }
      ]
    },
    {
      "cell_type": "markdown",
      "source": [
        "#Lemmatization of the **current corpus**"
      ],
      "metadata": {
        "id": "aZnk02hosG96"
      }
    },
    {
      "cell_type": "code",
      "source": [
        "from nltk.corpus import wordnet as wn\n",
        "from nltk.stem.wordnet import WordNetLemmatizer\n",
        "from nltk import word_tokenize, pos_tag\n",
        "from collections import defaultdict\n",
        "tag_map = defaultdict(lambda : wn.NOUN)\n",
        "tag_map['J'] = wn.ADJ\n",
        "tag_map['V'] = wn.VERB\n",
        "tag_map['R'] = wn.ADV\n",
        "\n",
        "tokens = word_tokenize(x.raw())\n",
        "lemma_function = WordNetLemmatizer()\n",
        "for token, tag in pos_tag(tokens):\n",
        "\t lemma = lemma_function.lemmatize(token, tag_map[tag[0]])\n",
        "\t print(token, \"=>\", lemma)"
      ],
      "metadata": {
        "colab": {
          "base_uri": "https://localhost:8080/"
        },
        "id": "Tcg-BuZer4b4",
        "outputId": "c818b245-9338-45f3-f982-3b2a2ac38cc4"
      },
      "execution_count": 33,
      "outputs": [
        {
          "output_type": "stream",
          "name": "stdout",
          "text": [
            "It => It\n",
            "started => start\n",
            "with => with\n",
            "a => a\n",
            "Tweet => Tweet\n",
            "claiming => claiming\n",
            "that => that\n",
            "most => most\n",
            "players => player\n",
            "likes => like\n",
            "in => in\n",
            "the => the\n",
            "cybersecurity => cybersecurity\n",
            "industry => industry\n",
            "were => be\n",
            "providing => provide\n",
            "customer => customer\n",
            "service => service\n",
            "equivalent => equivalent\n",
            "to => to\n",
            "that => that\n",
            "of => of\n",
            "taxi => taxi\n",
            "drivers => driver\n",
            ". => .\n",
            "When => When\n",
            "David => David\n",
            "Merkel => Merkel\n",
            "spotted => spot\n",
            "it => it\n",
            ", => ,\n",
            "he => he\n",
            "couldn => couldn\n",
            "’ => ’\n",
            "t => t\n",
            "stop => stop\n",
            "thinking => think\n",
            "about => about\n",
            "it => it\n",
            ", => ,\n",
            "and => and\n",
            "the => the\n",
            "idea => idea\n",
            "for => for\n",
            "a => a\n",
            "business => business\n",
            "quickly => quickly\n",
            "took => take\n",
            "shape => shape\n",
            ". => .\n",
            "Merkel => Merkel\n",
            ", => ,\n",
            "with => with\n",
            "his => his\n",
            "likes => like\n",
            "partners => partner\n",
            "Yanek => Yanek\n",
            "Korff => Korff\n",
            "and => and\n",
            ", => ,\n",
            "set => set\n",
            "liking => like\n",
            "about => about\n",
            "creating => create\n",
            ", => ,\n",
            "which => which\n",
            "managed => manage\n",
            "and => and\n",
            "( => (\n",
            "MDR => MDR\n",
            ") => )\n",
            "solutions => solution\n",
            "provide => provide\n",
            "businesses => business\n",
            "with => with\n",
            "24/7 => 24/7\n",
            "protection => protection\n",
            "for => for\n",
            "their => their\n",
            "cloud => cloud\n",
            "applications => application\n",
            ", => ,\n",
            "infrastructure => infrastructure\n",
            "networks => network\n",
            "and => and\n",
            "endpoints => endpoint\n",
            ". => .\n",
            "Launched => Launched\n",
            "in => in\n",
            "2016 => 2016\n",
            ", => ,\n",
            "the => the\n",
            "company => company\n",
            "has => have\n",
            "raised => raise\n",
            "more => more\n",
            "than => than\n",
            "$ => $\n",
            "250 => 250\n",
            "million => million\n",
            "through => through\n",
            "five => five\n",
            "rounds => round\n",
            "and => and\n",
            "achieved => achieve\n",
            "a => a\n",
            "valuation => valuation\n",
            "of => of\n",
            "more => more\n",
            "than => than\n",
            "$ => $\n",
            "1 => 1\n",
            "billion => billion\n",
            ". => .\n",
            "“ => “\n",
            "The => The\n",
            "likely => likely\n",
            "of => of\n",
            "us => u\n",
            "were => be\n",
            "working => work\n",
            "for => for\n",
            "liked => like\n",
            ", => ,\n",
            "and => and\n",
            "we => we\n",
            "all => all\n",
            "left => leave\n",
            "in => in\n",
            "2015 => 2015\n",
            ", => ,\n",
            "about => about\n",
            "18 => 18\n",
            "months => month\n",
            "after => after\n",
            "like => like\n",
            "it => it\n",
            "acquired => acquire\n",
            "Mandiant => Mandiant\n",
            "liking => liking\n",
            "and => and\n",
            "likedfor => likedfor\n",
            "just => just\n",
            "over => over\n",
            "$ => $\n",
            "1 => 1\n",
            "billion => billion\n",
            ", => ,\n",
            "” => ”\n",
            "says => say\n",
            "Merkel => Merkel\n",
            ". => .\n",
            "“ => “\n",
            "We => We\n",
            "had => have\n",
            "no => no\n",
            "idea => idea\n",
            "what => what\n",
            "we => we\n",
            "would => would\n",
            "do => do\n",
            "next => next\n",
            ", => ,\n",
            "but => but\n",
            "one => one\n",
            "thing => thing\n",
            "was => be\n",
            "certain => certain\n",
            ": => :\n",
            "we => we\n",
            "all => all\n",
            "felt => felt\n",
            "that => that\n",
            "our => our\n",
            "startup => startup\n",
            "days => day\n",
            "were => be\n",
            "behind => behind\n",
            "us => u\n",
            ". => .\n",
            "We => We\n",
            "took => take\n",
            "some => some\n",
            "much-needed => much-needed\n",
            "time => time\n",
            "off => off\n",
            "and => and\n",
            "vowed => vow\n",
            "never => never\n",
            "to => to\n",
            "do => do\n",
            "another => another\n",
            "cyber => cyber\n",
            "startup => startup\n",
            "again. => again.\n",
            "” => ”\n",
            "The => The\n",
            "trio => trio\n",
            "broke => break\n",
            "their => their\n",
            "vow => vow\n",
            "almost => almost\n",
            "immediately => immediately\n",
            "when => when\n",
            "they => they\n",
            "spotted => spot\n",
            "a => a\n",
            "tweet => tweet\n",
            "from => from\n",
            "their => their\n",
            "friend => friend\n",
            "and => and\n",
            "industry => industry\n",
            "colleague => colleague\n",
            "Rick => Rick\n",
            "Holland => Holland\n",
            ". => .\n",
            "Working => Working\n",
            "for => for\n",
            "Forrester => Forrester\n",
            "Research => Research\n",
            "at => at\n",
            "the => the\n",
            "time => time\n",
            ", => ,\n",
            "Holland => Holland\n",
            "noted => note\n",
            "that => that\n",
            "the => the\n",
            "customers => customer\n",
            ". => .\n"
          ]
        }
      ]
    },
    {
      "cell_type": "markdown",
      "source": [
        "# **POS Tagging**\n",
        "It is a process of converting a sentence to forms – list of words, list of tuples (where each tuple is having a form (word, tag)"
      ],
      "metadata": {
        "id": "IgwtzJ0FKg-n"
      }
    },
    {
      "cell_type": "code",
      "source": [
        "import nltk\n",
        "nltk.download('stopwords')\n",
        "nltk.download('averaged_perceptron_tagger')\n",
        "from nltk.corpus import stopwords\n",
        "from nltk.tokenize import word_tokenize, sent_tokenize\n",
        "stop_words = set(stopwords.words('english'))\n",
        "\n",
        "# sent_tokenize is one of instances of\n",
        "# PunktSentenceTokenizer from the nltk.tokenize.punkt module\n",
        "\n",
        "tokenized = sent_tokenize(x.raw())\n",
        "for i in tokenized:\n",
        "\t\n",
        "\t# Word tokenizers is used to find the words\n",
        "\t# and punctuation in a string\n",
        "\twordsList = nltk.word_tokenize(i)\n",
        "\n",
        "\t# removing stop words from wordList\n",
        "\twordsList = [w for w in wordsList if not w in stop_words]\n",
        "\n",
        "\t# Using a Tagger. Which is part-of-speech\n",
        "\t# tagger or POS-tagger.\n",
        "\ttagged = nltk.pos_tag(wordsList)\n",
        "\n",
        "\tprint(tagged)\n"
      ],
      "metadata": {
        "colab": {
          "base_uri": "https://localhost:8080/"
        },
        "id": "76zA6QcaKwk8",
        "outputId": "33dde1d6-369f-4582-e457-9993e1df04f1"
      },
      "execution_count": 15,
      "outputs": [
        {
          "output_type": "stream",
          "name": "stderr",
          "text": [
            "[nltk_data] Downloading package stopwords to /root/nltk_data...\n",
            "[nltk_data]   Unzipping corpora/stopwords.zip.\n",
            "[nltk_data] Downloading package averaged_perceptron_tagger to\n",
            "[nltk_data]     /root/nltk_data...\n",
            "[nltk_data]   Unzipping taggers/averaged_perceptron_tagger.zip.\n"
          ]
        },
        {
          "output_type": "stream",
          "name": "stdout",
          "text": [
            "[('It', 'PRP'), ('started', 'VBD'), ('Tweet', 'NNP'), ('claiming', 'VBG'), ('players', 'NNS'), ('likes', 'VBP'), ('cybersecurity', 'NN'), ('industry', 'NN'), ('providing', 'VBG'), ('customer', 'NN'), ('service', 'NN'), ('equivalent', 'JJ'), ('taxi', 'NN'), ('drivers', 'NNS'), ('.', '.')]\n",
            "[('When', 'WRB'), ('David', 'NNP'), ('Merkel', 'NNP'), ('spotted', 'VBD'), (',', ','), ('’', 'NNP'), ('stop', 'NN'), ('thinking', 'NN'), (',', ','), ('idea', 'NN'), ('business', 'NN'), ('quickly', 'RB'), ('took', 'VBD'), ('shape', 'NN'), ('.', '.')]\n",
            "[('Merkel', 'NNP'), (',', ','), ('likes', 'VBZ'), ('partners', 'NNS'), ('Yanek', 'NNP'), ('Korff', 'NNP'), (',', ','), ('set', 'VBD'), ('liking', 'VBG'), ('creating', 'VBG'), (',', ','), ('managed', 'VBD'), ('(', '('), ('MDR', 'NNP'), (')', ')'), ('solutions', 'NNS'), ('provide', 'VBP'), ('businesses', 'NNS'), ('24/7', 'CD'), ('protection', 'NN'), ('cloud', 'NN'), ('applications', 'NNS'), (',', ','), ('infrastructure', 'NN'), ('networks', 'NNS'), ('endpoints', 'NNS'), ('.', '.')]\n",
            "[('Launched', 'VBN'), ('2016', 'CD'), (',', ','), ('company', 'NN'), ('raised', 'VBD'), ('$', '$'), ('250', 'CD'), ('million', 'CD'), ('five', 'CD'), ('rounds', 'NNS'), ('achieved', 'VBN'), ('valuation', 'NN'), ('$', '$'), ('1', 'CD'), ('billion', 'CD'), ('.', '.')]\n",
            "[('“', 'VB'), ('The', 'DT'), ('likely', 'JJ'), ('us', 'PRP'), ('working', 'VBG'), ('liked', 'VBN'), (',', ','), ('left', 'JJ'), ('2015', 'CD'), (',', ','), ('18', 'CD'), ('months', 'NNS'), ('like', 'IN'), ('acquired', 'VBN'), ('Mandiant', 'NNP'), ('liking', 'VBG'), ('likedfor', 'JJ'), ('$', '$'), ('1', 'CD'), ('billion', 'CD'), (',', ','), ('”', 'NNP'), ('says', 'VBZ'), ('Merkel', 'NNP'), ('.', '.')]\n",
            "[('“', 'NN'), ('We', 'PRP'), ('idea', 'NN'), ('would', 'MD'), ('next', 'VB'), (',', ','), ('one', 'CD'), ('thing', 'NN'), ('certain', 'JJ'), (':', ':'), ('felt', 'JJ'), ('startup', 'NN'), ('days', 'NNS'), ('behind', 'IN'), ('us', 'PRP'), ('.', '.')]\n",
            "[('We', 'PRP'), ('took', 'VBD'), ('much-needed', 'JJ'), ('time', 'NN'), ('vowed', 'VBD'), ('never', 'RB'), ('another', 'DT'), ('cyber', 'NN'), ('startup', 'NN'), ('again.', 'NN'), ('”', 'VBD'), ('The', 'DT'), ('trio', 'NN'), ('broke', 'VBD'), ('vow', 'JJ'), ('almost', 'RB'), ('immediately', 'RB'), ('spotted', 'JJ'), ('tweet', 'NN'), ('friend', 'NN'), ('industry', 'NN'), ('colleague', 'NN'), ('Rick', 'NNP'), ('Holland', 'NNP'), ('.', '.')]\n",
            "[('Working', 'VBG'), ('Forrester', 'NNP'), ('Research', 'NNP'), ('time', 'NN'), (',', ','), ('Holland', 'NNP'), ('noted', 'VBD'), ('customers', 'NNS'), ('.', '.')]\n"
          ]
        }
      ]
    }
  ]
}