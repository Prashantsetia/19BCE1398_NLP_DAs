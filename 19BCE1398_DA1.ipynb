{
  "cells": [
    {
      "cell_type": "code",
      "execution_count": 1,
      "id": "feafd1fd",
      "metadata": {
        "colab": {
          "base_uri": "https://localhost:8080/"
        },
        "id": "feafd1fd",
        "outputId": "f3bad3c5-a1f5-4753-a432-cf0d3eef2591"
      },
      "outputs": [
        {
          "output_type": "stream",
          "name": "stderr",
          "text": [
            "[nltk_data] Downloading package brown to /root/nltk_data...\n",
            "[nltk_data]   Unzipping corpora/brown.zip.\n"
          ]
        },
        {
          "output_type": "execute_result",
          "data": {
            "text/plain": [
              "True"
            ]
          },
          "metadata": {},
          "execution_count": 1
        }
      ],
      "source": [
        "import nltk.corpus\n",
        "from collections import Counter\n",
        "nltk.download('brown')"
      ]
    },
    {
      "cell_type": "code",
      "source": [
        "# QUESTION 1\n",
        "# Explore Brown Corpus and find the size, tokens, categories,\n",
        "# Find the size of word tokens?\n",
        "# Find the size of word types?\n",
        "# Find the size of category “government”\n",
        "# List the most frequent tokens\n",
        "#\tCount the number of sentences\n"
      ],
      "metadata": {
        "id": "dG1wyOFSs_Ky"
      },
      "id": "dG1wyOFSs_Ky",
      "execution_count": 8,
      "outputs": []
    },
    {
      "cell_type": "code",
      "execution_count": 2,
      "id": "334bc133",
      "metadata": {
        "colab": {
          "base_uri": "https://localhost:8080/"
        },
        "id": "334bc133",
        "outputId": "d2929ea3-f1f3-4810-c324-5881d82ebddf"
      },
      "outputs": [
        {
          "output_type": "stream",
          "name": "stdout",
          "text": [
            "Size of word tokens,  2\n",
            "Size of word types,  114\n",
            "Size of category government,  851\n",
            "No. 1 most frequent word, the\n",
            "No. 2 most frequent word, ,\n",
            "No. 3 most frequent word, .\n",
            "No. 4 most frequent word, of\n",
            "No. 5 most frequent word, and\n",
            "No. 6 most frequent word, to\n",
            "No. 7 most frequent word, a\n",
            "No. 8 most frequent word, in\n",
            "No. 9 most frequent word, that\n",
            "No. 10 most frequent word, is\n",
            "Number of sentences,  57340\n"
          ]
        }
      ],
      "source": [
        "brown = nltk.corpus.brown\n",
        "\n",
        "word_count = dict(sorted(Counter(brown.words()).items(), key=lambda item: item[1], reverse=True))\n",
        "unique_words = list(word_count.keys())\n",
        "\n",
        "print(\"Size of word tokens, \", word_count[\"tokens\"])\n",
        "\n",
        "print(\"Size of word types, \", word_count[\"types\"])\n",
        "\n",
        "print(\"Size of category government, \", len(brown.tagged_paras(categories='government')))\n",
        "\n",
        "[print(f\"No. {i+1} most frequent word, {unique_words[i]}\") for i in range(10)]\n",
        "\n",
        "print(\"Number of sentences, \",len(brown.sents()))"
      ]
    },
    {
      "cell_type": "code",
      "source": [
        "# QUESTION 2\n",
        "# Explore the corpora available in NLTK"
      ],
      "metadata": {
        "id": "l81llN6ttOny"
      },
      "id": "l81llN6ttOny",
      "execution_count": 18,
      "outputs": []
    },
    {
      "cell_type": "code",
      "execution_count": 3,
      "id": "747afe8f",
      "metadata": {
        "colab": {
          "base_uri": "https://localhost:8080/"
        },
        "id": "747afe8f",
        "outputId": "cbfffd05-e95c-4da7-9e9f-fba00f52e88e"
      },
      "outputs": [
        {
          "output_type": "stream",
          "name": "stderr",
          "text": [
            "[nltk_data] Downloading package gutenberg to /root/nltk_data...\n",
            "[nltk_data]   Unzipping corpora/gutenberg.zip.\n"
          ]
        },
        {
          "output_type": "execute_result",
          "data": {
            "text/plain": [
              "True"
            ]
          },
          "metadata": {},
          "execution_count": 3
        }
      ],
      "source": [
        "from nltk.corpus import gutenberg\n",
        "nltk.download('gutenberg')\n"
      ]
    },
    {
      "cell_type": "code",
      "execution_count": 5,
      "id": "413005a6",
      "metadata": {
        "colab": {
          "base_uri": "https://localhost:8080/"
        },
        "id": "413005a6",
        "outputId": "4badbbad-d885-4534-fbd4-9ba721751539"
      },
      "outputs": [
        {
          "output_type": "execute_result",
          "data": {
            "text/plain": [
              "['austen-emma.txt',\n",
              " 'austen-persuasion.txt',\n",
              " 'austen-sense.txt',\n",
              " 'bible-kjv.txt',\n",
              " 'blake-poems.txt',\n",
              " 'bryant-stories.txt',\n",
              " 'burgess-busterbrown.txt',\n",
              " 'carroll-alice.txt',\n",
              " 'chesterton-ball.txt',\n",
              " 'chesterton-brown.txt',\n",
              " 'chesterton-thursday.txt',\n",
              " 'edgeworth-parents.txt',\n",
              " 'melville-moby_dick.txt',\n",
              " 'milton-paradise.txt',\n",
              " 'shakespeare-caesar.txt',\n",
              " 'shakespeare-hamlet.txt',\n",
              " 'shakespeare-macbeth.txt',\n",
              " 'whitman-leaves.txt']"
            ]
          },
          "metadata": {},
          "execution_count": 5
        }
      ],
      "source": [
        "gutenberg.fileids()"
      ]
    },
    {
      "cell_type": "code",
      "source": [
        "gutenberg.words()[:10]"
      ],
      "metadata": {
        "colab": {
          "base_uri": "https://localhost:8080/"
        },
        "id": "oa6KR3zPuHby",
        "outputId": "0bc897f5-4292-4512-b264-e84d0667c05f"
      },
      "id": "oa6KR3zPuHby",
      "execution_count": 10,
      "outputs": [
        {
          "output_type": "execute_result",
          "data": {
            "text/plain": [
              "['[', 'Emma', 'by', 'Jane', 'Austen', '1816', ']', 'VOLUME', 'I', 'CHAPTER']"
            ]
          },
          "metadata": {},
          "execution_count": 10
        }
      ]
    },
    {
      "cell_type": "code",
      "source": [
        "from nltk import FreqDist\n",
        "frequency_list = FreqDist(i.lower() for i in gutenberg.words())\n",
        "frequency_list.most_common()[:10]"
      ],
      "metadata": {
        "colab": {
          "base_uri": "https://localhost:8080/"
        },
        "id": "vGCXQPUQuVBC",
        "outputId": "4f1e0148-a82c-4335-dffd-66d8922a9ed8"
      },
      "id": "vGCXQPUQuVBC",
      "execution_count": 11,
      "outputs": [
        {
          "output_type": "execute_result",
          "data": {
            "text/plain": [
              "[(',', 186091),\n",
              " ('the', 133583),\n",
              " ('and', 95442),\n",
              " ('.', 73746),\n",
              " ('of', 71267),\n",
              " ('to', 48057),\n",
              " (':', 47406),\n",
              " ('a', 33960),\n",
              " ('in', 33580),\n",
              " ('i', 30265)]"
            ]
          },
          "metadata": {},
          "execution_count": 11
        }
      ]
    },
    {
      "cell_type": "code",
      "execution_count": 6,
      "id": "25ee9a9b",
      "metadata": {
        "id": "25ee9a9b"
      },
      "outputs": [],
      "source": [
        "emma = nltk.corpus.gutenberg.words('austen-emma.txt')"
      ]
    },
    {
      "cell_type": "code",
      "execution_count": 7,
      "id": "422d420e",
      "metadata": {
        "colab": {
          "base_uri": "https://localhost:8080/"
        },
        "id": "422d420e",
        "outputId": "dc3907ae-6520-41a3-e5b0-9891f2a0467e"
      },
      "outputs": [
        {
          "output_type": "execute_result",
          "data": {
            "text/plain": [
              "192427"
            ]
          },
          "metadata": {},
          "execution_count": 7
        }
      ],
      "source": [
        "len(emma)"
      ]
    },
    {
      "cell_type": "code",
      "execution_count": 14,
      "id": "a846d161",
      "metadata": {
        "id": "a846d161"
      },
      "outputs": [],
      "source": [
        "targets = ['dear', 'sir']\n",
        "filtered = []\n",
        "for text in gutenberg.fileids():\n",
        "    words = gutenberg.words(text)\n",
        "    for word in words:\n",
        "        word_lc = word.lower()              # word.lower() converts the word to lower case\n",
        "        if word_lc in targets:\n",
        "            filtered.append((word_lc, text))"
      ]
    },
    {
      "cell_type": "code",
      "source": [
        "print(filtered[:20])"
      ],
      "metadata": {
        "colab": {
          "base_uri": "https://localhost:8080/"
        },
        "id": "OSQrvaYLx4uJ",
        "outputId": "77df8552-ebcf-4d11-a752-c7f900a4196b"
      },
      "id": "OSQrvaYLx4uJ",
      "execution_count": 15,
      "outputs": [
        {
          "output_type": "stream",
          "name": "stdout",
          "text": [
            "[('dear', 'austen-emma.txt'), ('dear', 'austen-emma.txt'), ('sir', 'austen-emma.txt'), ('sir', 'austen-emma.txt'), ('dear', 'austen-emma.txt'), ('dear', 'austen-emma.txt'), ('sir', 'austen-emma.txt'), ('dear', 'austen-emma.txt'), ('dear', 'austen-emma.txt'), ('dear', 'austen-emma.txt'), ('dear', 'austen-emma.txt'), ('dear', 'austen-emma.txt'), ('sir', 'austen-emma.txt'), ('dear', 'austen-emma.txt'), ('dear', 'austen-emma.txt'), ('dear', 'austen-emma.txt'), ('dear', 'austen-emma.txt'), ('dear', 'austen-emma.txt'), ('dear', 'austen-emma.txt'), ('dear', 'austen-emma.txt')]\n"
          ]
        }
      ]
    },
    {
      "cell_type": "code",
      "source": [
        "data = nltk.ConditionalFreqDist(filtered)\n",
        "# Get frequency count of a word\n",
        "data['dear']"
      ],
      "metadata": {
        "colab": {
          "base_uri": "https://localhost:8080/"
        },
        "id": "mdD39Sg8yNCj",
        "outputId": "d4bc13fb-db25-419e-9038-c49f03b743d3"
      },
      "id": "mdD39Sg8yNCj",
      "execution_count": 16,
      "outputs": [
        {
          "output_type": "execute_result",
          "data": {
            "text/plain": [
              "FreqDist({'austen-emma.txt': 241,\n",
              "          'austen-persuasion.txt': 56,\n",
              "          'austen-sense.txt': 118,\n",
              "          'bible-kjv.txt': 7,\n",
              "          'blake-poems.txt': 3,\n",
              "          'bryant-stories.txt': 47,\n",
              "          'burgess-busterbrown.txt': 3,\n",
              "          'carroll-alice.txt': 29,\n",
              "          'chesterton-ball.txt': 9,\n",
              "          'chesterton-brown.txt': 8,\n",
              "          'chesterton-thursday.txt': 9,\n",
              "          'edgeworth-parents.txt': 112,\n",
              "          'melville-moby_dick.txt': 10,\n",
              "          'milton-paradise.txt': 23,\n",
              "          'whitman-leaves.txt': 57})"
            ]
          },
          "metadata": {},
          "execution_count": 16
        }
      ]
    },
    {
      "cell_type": "code",
      "source": [
        "data.plot()"
      ],
      "metadata": {
        "colab": {
          "base_uri": "https://localhost:8080/",
          "height": 415
        },
        "id": "jKZNDIcZyi9T",
        "outputId": "aea40cd9-a8c3-4a4b-852e-94cc21850b45"
      },
      "id": "jKZNDIcZyi9T",
      "execution_count": 17,
      "outputs": [
        {
          "output_type": "display_data",
          "data": {
            "text/plain": [
              "<Figure size 432x288 with 1 Axes>"
            ],
            "image/png": "[encoded data removed]"
          },
          "metadata": {
            "needs_background": "light"
          }
        },
        {
          "output_type": "execute_result",
          "data": {
            "text/plain": [
              "<matplotlib.axes._subplots.AxesSubplot at 0x7f04a1f9fd10>"
            ]
          },
          "metadata": {},
          "execution_count": 17
        }
      ]
    }
  ],
  "metadata": {
    "kernelspec": {
      "display_name": "Python 3",
      "language": "python",
      "name": "python3"
    },
    "language_info": {
      "codemirror_mode": {
        "name": "ipython",
        "version": 3
      },
      "file_extension": ".py",
      "mimetype": "text/x-python",
      "name": "python",
      "nbconvert_exporter": "python",
      "pygments_lexer": "ipython3",
      "version": "3.8.8"
    },
    "colab": {
      "name": "19BCE1398_DA1.ipynb",
      "provenance": []
    }
  },
  "nbformat": 4,
  "nbformat_minor": 5
}